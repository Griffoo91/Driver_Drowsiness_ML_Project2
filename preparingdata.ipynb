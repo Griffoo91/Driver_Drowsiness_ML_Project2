{
 "cells": [
  {
   "cell_type": "code",
   "execution_count": 1,
   "metadata": {},
   "outputs": [],
   "source": [
    "import os\n",
    "import shutil\n",
    "import glob\n",
    "from tqdm import tqdm"
   ]
  },
  {
   "cell_type": "markdown",
   "metadata": {},
   "source": [
    "subject ID:\n",
    "\n",
    "xxx\n",
    "\n",
    "image number: xxx\n",
    "\n",
    "gender: 0 - male 1 - famale\n",
    "\n",
    "glasses: 0 - no 1 - yes\n",
    "\n",
    "eye state: 0 - close 1 - open\n",
    "\n",
    "reflections: 0 - none 1 - low 2 - high\n",
    "\n",
    "lighting conditions/image quality: 0 - bad 1 - good\n",
    "\n",
    "sensor type: 01 - RealSense SR300 640x480 02 - IDS Imaging, 1280x1024 03 - Aptina Imagin 752x480\n",
    "\n",
    "example:\n",
    "s001_00123_0_0_0_0_0_01.png"
   ]
  },
  {
   "cell_type": "code",
   "execution_count": null,
   "metadata": {},
   "outputs": [],
   "source": [
    "Raw_DIR = r'/home/blackson/Desktop/Projects/Machine_Learning/Driver_Drowsiness_ML_Project/mrlEyes_2018_01/'\n",
    "for dirpath, dirname, filenames in os.walk(Raw_DIR):\n",
    "  for i in tqdm([f for f in filenames if f.endswith('.png')]):\n",
    "    if i.split('_')[4] == '0':\n",
    "      shutil.copy(src=dirpath+'/'+i, dst= r'/home/blackson/Desktop/Projects/Machine_Learning/Driver_Drowsiness_ML_Project/Prepared_Data/CloseEyes')\n",
    "\n",
    "    elif i.split('_')[4] == '1':\n",
    "      shutil.copy(src=dirpath+'/'+i, dst=r'/home/blackson/Desktop/Projects/Machine_Learning/Driver_Drowsiness_ML_Project/Prepared_Data/OpenEyes')"
   ]
  }
 ],
 "metadata": {
  "kernelspec": {
   "display_name": "Python 3",
   "language": "python",
   "name": "python3"
  },
  "language_info": {
   "codemirror_mode": {
    "name": "ipython",
    "version": 3
   },
   "file_extension": ".py",
   "mimetype": "text/x-python",
   "name": "python",
   "nbconvert_exporter": "python",
   "pygments_lexer": "ipython3",
   "version": "3.11.7"
  }
 },
 "nbformat": 4,
 "nbformat_minor": 2
}
